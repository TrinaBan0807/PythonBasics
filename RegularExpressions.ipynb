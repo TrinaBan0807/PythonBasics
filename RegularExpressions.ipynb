{
  "nbformat": 4,
  "nbformat_minor": 0,
  "metadata": {
    "colab": {
      "provenance": [],
      "authorship_tag": "ABX9TyPb3eo5dkA8JxYOI9zHOJZQ"
    },
    "kernelspec": {
      "name": "python3",
      "display_name": "Python 3"
    },
    "language_info": {
      "name": "python"
    }
  },
  "cells": [
    {
      "cell_type": "code",
      "execution_count": 2,
      "metadata": {
        "colab": {
          "base_uri": "https://localhost:8080/"
        },
        "id": "-mNUpoaNXGwQ",
        "outputId": "992ed566-24fc-4bec-e144-93ebcb989a4a"
      },
      "outputs": [
        {
          "output_type": "stream",
          "name": "stdout",
          "text": [
            "Matches found:\n",
            "é\n",
            "ñ\n",
            "ö\n"
          ]
        }
      ],
      "source": [
        "import re\n",
        "\n",
        "# Define the regular expression pattern\n",
        "pattern = r'[^\\x20-\\x7E]+'\n",
        "\n",
        "# Sample text to search for matches\n",
        "text = \"This is a sample text with special characters like é, ñ, and ö.\"\n",
        "\n",
        "# Find all matches of the pattern in the text\n",
        "matches = re.findall(pattern, text)\n",
        "\n",
        "# Print the matches\n",
        "print(\"Matches found:\")\n",
        "for match in matches:\n",
        "    print(match)\n"
      ]
    }
  ]
}