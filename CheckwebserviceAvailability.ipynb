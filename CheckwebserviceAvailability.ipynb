{
  "nbformat": 4,
  "nbformat_minor": 0,
  "metadata": {
    "colab": {
      "provenance": [],
      "authorship_tag": "ABX9TyP7wOuwSn2lkvAX+EvbT475",
      "include_colab_link": true
    },
    "kernelspec": {
      "name": "python3",
      "display_name": "Python 3"
    },
    "language_info": {
      "name": "python"
    }
  },
  "cells": [
    {
      "cell_type": "markdown",
      "metadata": {
        "id": "view-in-github",
        "colab_type": "text"
      },
      "source": [
        "<a href=\"https://colab.research.google.com/github/TrinaBan0807/PythonBasics/blob/main/CheckwebserviceAvailability.ipynb\" target=\"_parent\"><img src=\"https://colab.research.google.com/assets/colab-badge.svg\" alt=\"Open In Colab\"/></a>"
      ]
    },
    {
      "cell_type": "code",
      "execution_count": 8,
      "metadata": {
        "colab": {
          "base_uri": "https://localhost:8080/"
        },
        "id": "pnIUmS2I21NQ",
        "outputId": "61404b59-5489-4f87-97a1-aa8fcdf5c0b2"
      },
      "outputs": [
        {
          "output_type": "stream",
          "name": "stdout",
          "text": [
            "Please enter the URL of the web service you want to check: https://mock.httpstatus.io/301\n",
            "Web service at https://mock.httpstatus.io/301 is accessible and returned status code 200.\n"
          ]
        }
      ],
      "source": [
        "import requests\n",
        "def check_web_service(url):\n",
        "    try:\n",
        "        # Send a GET request to the URL\n",
        "        response = requests.get(url)\n",
        "\n",
        "        # Check if the response status code is 200 (OK)\n",
        "        if response.status_code == 200:\n",
        "            print(f\"Web service at {url} is accessible and returned status code {response.status_code}.\")\n",
        "        else:\n",
        "            # Print the status code if it's not 200\n",
        "            print(f\"Web service at {url} returned status code {response.status_code}.\")\n",
        "            print(f\"Error Message: {response.reason}\")\n",
        "\n",
        "    except requests.exceptions.Timeout:\n",
        "        print(f\"Request to {url} timed out.\")\n",
        "    except requests.exceptions.ConnectionError:\n",
        "        print(f\"Failed to connect to {url}. Check if the URL is correct or the server is down.\")\n",
        "    except requests.exceptions.HTTPError as e:\n",
        "        print(f\"HTTP error occurred while accessing {url}: {e}\")\n",
        "    except requests.exceptions.RequestException as e:\n",
        "        # Catch any other types of exceptions\n",
        "        print(f\"An error occurred while trying to reach {url}: {e}\")\n",
        "\n",
        "def main():\n",
        "    # Prompt the user to enter a URL\n",
        "    url = input(\"Please enter the URL of the web service you want to check: \").strip()\n",
        "\n",
        "    # Validate if the URL is not empty\n",
        "    if url:\n",
        "        check_web_service(url)\n",
        "    else:\n",
        "        print(\"You must provide a URL.\")\n",
        "\n",
        "if __name__ == \"__main__\":\n",
        "    main()"
      ]
    }
  ]
}