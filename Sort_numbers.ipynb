{
  "nbformat": 4,
  "nbformat_minor": 0,
  "metadata": {
    "colab": {
      "provenance": [],
      "toc_visible": true,
      "authorship_tag": "ABX9TyNrsd3BxBHpUSzf26SAl9Qw",
      "include_colab_link": true
    },
    "kernelspec": {
      "name": "python3",
      "display_name": "Python 3"
    },
    "language_info": {
      "name": "python"
    }
  },
  "cells": [
    {
      "cell_type": "markdown",
      "metadata": {
        "id": "view-in-github",
        "colab_type": "text"
      },
      "source": [
        "<a href=\"https://colab.research.google.com/github/TrinaBan0807/PythonBasics/blob/main/Sort_numbers.ipynb\" target=\"_parent\"><img src=\"https://colab.research.google.com/assets/colab-badge.svg\" alt=\"Open In Colab\"/></a>"
      ]
    },
    {
      "cell_type": "code",
      "execution_count": 19,
      "metadata": {
        "colab": {
          "base_uri": "https://localhost:8080/"
        },
        "id": "-P9ivNODv1Q3",
        "outputId": "1edab9fa-4f43-4d52-c9ac-b8d0a10f71d6"
      },
      "outputs": [
        {
          "output_type": "stream",
          "name": "stdout",
          "text": [
            "Enter numbers separated by commas: 65768,897756,-0897867564\n",
            "Sorted numbers in ascending order: [-897867564, 65768, 897756]\n",
            "Largest number is: 897756\n",
            "Sorted numbers in descending order: [897756, 65768, -897867564]\n",
            "Smallest number is: -897867564\n"
          ]
        }
      ],
      "source": [
        "# Get numbers from the user (comma-separated)\n",
        "input_str = input(\"Enter numbers separated by commas: \")\n",
        "\n",
        "# Convert input string to list of integers\n",
        "numbers = list(map(int, input_str.split(',')))\n",
        "\n",
        "#  Find the largest number\n",
        "largest = max(numbers)\n",
        "\n",
        "#  Find the smallest number\n",
        "smallest = min(numbers)\n",
        "\n",
        "# Sort in ascending order\n",
        "sorted_asc = sorted(numbers)\n",
        "\n",
        "# Sort in descending order\n",
        "sorted_des = sorted(numbers, reverse=True)\n",
        "\n",
        "# Output\n",
        "print(\"Sorted numbers in ascending order:\", sorted_asc)\n",
        "print(\"Largest number is:\", largest)\n",
        "print(\"Sorted numbers in descending order:\", sorted_des)\n",
        "print(\"Smallest number is:\", smallest)\n"
      ]
    }
  ]
}