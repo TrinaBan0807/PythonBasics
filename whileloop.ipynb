{
  "nbformat": 4,
  "nbformat_minor": 0,
  "metadata": {
    "colab": {
      "provenance": [],
      "authorship_tag": "ABX9TyNrkQzFjGWvnfA9OukZ7fkk",
      "include_colab_link": true
    },
    "kernelspec": {
      "name": "python3",
      "display_name": "Python 3"
    },
    "language_info": {
      "name": "python"
    }
  },
  "cells": [
    {
      "cell_type": "markdown",
      "metadata": {
        "id": "view-in-github",
        "colab_type": "text"
      },
      "source": [
        "<a href=\"https://colab.research.google.com/github/TrinaBan0807/PythonBasics/blob/main/whileloop.ipynb\" target=\"_parent\"><img src=\"https://colab.research.google.com/assets/colab-badge.svg\" alt=\"Open In Colab\"/></a>"
      ]
    },
    {
      "cell_type": "code",
      "execution_count": 7,
      "metadata": {
        "colab": {
          "base_uri": "https://localhost:8080/"
        },
        "id": "iOFMg6K5Uja2",
        "outputId": "d1de5411-ef48-4eef-a266-c1730f53a8c1"
      },
      "outputs": [
        {
          "output_type": "stream",
          "name": "stdout",
          "text": [
            "Enter first number: 19\n",
            "Enter second number: 25\n",
            "19\n",
            "20\n",
            "21\n",
            "22\n",
            "23\n",
            "24\n",
            "25\n"
          ]
        }
      ],
      "source": [
        "# while loop example\n",
        "\n",
        "# Initialize a variable to keep track of the current number\n",
        "current_number = int (input(\"Enter first number: \"))\n",
        "\n",
        "# Set the maximum number to iterate up to\n",
        "max_number = int (input(\"Enter second number: \"))\n",
        "\n",
        "# Use a while loop to iterate until the current number reaches the maximum number\n",
        "while current_number <= max_number:\n",
        "  # Print the current number\n",
        "  print(current_number)\n",
        "\n",
        "  # Increment the current number by 1\n",
        "  current_number = current_number + 1\n"
      ]
    }
  ]
}