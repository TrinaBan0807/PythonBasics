{
  "nbformat": 4,
  "nbformat_minor": 0,
  "metadata": {
    "colab": {
      "provenance": [],
      "authorship_tag": "ABX9TyNHCG6CCDFnwX9ss56bb+uv"
    },
    "kernelspec": {
      "name": "python3",
      "display_name": "Python 3"
    },
    "language_info": {
      "name": "python"
    }
  },
  "cells": [
    {
      "cell_type": "code",
      "source": [
        "def print_patterns(n):\n",
        "  for i in range(n):\n",
        "    for j in range(i+1):\n",
        "      print(\"* \",end=\"\")\n",
        "    print()\n",
        "\n",
        "  for i in range(n,0,-1):\n",
        "    for j in range(i-1):\n",
        "      print(\"* \",end=\"\")\n",
        "    print()\n",
        "\n",
        "n = int(input(\"Enter the number: \"))\n",
        "\n",
        "print_patterns(n)\n"
      ],
      "metadata": {
        "colab": {
          "base_uri": "https://localhost:8080/"
        },
        "id": "grW4GLSRrsjN",
        "outputId": "2e6c7d6e-0194-4e87-de3c-0abfb2ec4c4f"
      },
      "execution_count": 28,
      "outputs": [
        {
          "output_type": "stream",
          "name": "stdout",
          "text": [
            "Enter the number: 10\n",
            "* \n",
            "* * \n",
            "* * * \n",
            "* * * * \n",
            "* * * * * \n",
            "* * * * * * \n",
            "* * * * * * * \n",
            "* * * * * * * * \n",
            "* * * * * * * * * \n",
            "* * * * * * * * * * \n",
            "* * * * * * * * * \n",
            "* * * * * * * * \n",
            "* * * * * * * \n",
            "* * * * * * \n",
            "* * * * * \n",
            "* * * * \n",
            "* * * \n",
            "* * \n",
            "* \n",
            "\n"
          ]
        }
      ]
    }
  ]
}