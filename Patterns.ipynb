{
  "nbformat": 4,
  "nbformat_minor": 0,
  "metadata": {
    "colab": {
      "provenance": [],
      "authorship_tag": "ABX9TyOMg1UYFs5qItBo0kvVRVP8"
    },
    "kernelspec": {
      "name": "python3",
      "display_name": "Python 3"
    },
    "language_info": {
      "name": "python"
    }
  },
  "cells": [
    {
      "cell_type": "code",
      "source": [
        "n = int(input(\"Enter the number: \"))\n",
        "\n",
        "def print_patterns(n):\n",
        "  for i in range(n):\n",
        "    for j in range(i+1):\n",
        "      print(\"* \",end=\"\")\n",
        "    print()\n",
        "\n",
        "  for i in range(n,0,-1):\n",
        "    for j in range(i-1):\n",
        "      print(\"* \",end=\"\")\n",
        "    print()\n",
        "\n",
        "print_patterns(n)\n"
      ],
      "metadata": {
        "colab": {
          "base_uri": "https://localhost:8080/"
        },
        "id": "grW4GLSRrsjN",
        "outputId": "963a35cd-d83b-430c-cc0b-5e66e468ad3a"
      },
      "execution_count": 29,
      "outputs": [
        {
          "output_type": "stream",
          "name": "stdout",
          "text": [
            "Enter the number: 3\n",
            "* \n",
            "* * \n",
            "* * * \n",
            "* * \n",
            "* \n",
            "\n"
          ]
        }
      ]
    }
  ]
}