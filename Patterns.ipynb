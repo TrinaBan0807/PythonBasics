{
  "nbformat": 4,
  "nbformat_minor": 0,
  "metadata": {
    "colab": {
      "provenance": [],
      "authorship_tag": "ABX9TyOsvLKcvGTfQ5+mQugLIt9q"
    },
    "kernelspec": {
      "name": "python3",
      "display_name": "Python 3"
    },
    "language_info": {
      "name": "python"
    }
  },
  "cells": [
    {
      "cell_type": "code",
      "source": [
        "n = int(input(\"Enter the number: \"))\n",
        "\n",
        "if n < 0:\n",
        "  print(\"Please enter positive number\")\n",
        "\n",
        "def print_patterns(n):\n",
        "  for i in range(n):\n",
        "    for j in range(i+1):\n",
        "      print(\"* \",end=\"\")\n",
        "    print()\n",
        "\n",
        "  for i in range(n,0,-1):\n",
        "    for j in range(i-1):\n",
        "      print(\"* \",end=\"\")\n",
        "    print()\n",
        "\n",
        "\n",
        "\n",
        "print_patterns(n)\n"
      ],
      "metadata": {
        "colab": {
          "base_uri": "https://localhost:8080/"
        },
        "id": "grW4GLSRrsjN",
        "outputId": "705c1b13-09c4-4f30-d5ab-5911da710c7d"
      },
      "execution_count": 38,
      "outputs": [
        {
          "output_type": "stream",
          "name": "stdout",
          "text": [
            "Enter the number: 2\n",
            "* \n",
            "* * \n",
            "* \n",
            "\n"
          ]
        }
      ]
    }
  ]
}