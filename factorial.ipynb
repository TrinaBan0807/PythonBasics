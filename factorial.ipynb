{
  "nbformat": 4,
  "nbformat_minor": 0,
  "metadata": {
    "colab": {
      "provenance": [],
      "authorship_tag": "ABX9TyPJwFRHWNcaJ/sxi7cBHS6+"
    },
    "kernelspec": {
      "name": "python3",
      "display_name": "Python 3"
    },
    "language_info": {
      "name": "python"
    }
  },
  "cells": [
    {
      "cell_type": "code",
      "execution_count": 32,
      "metadata": {
        "colab": {
          "base_uri": "https://localhost:8080/"
        },
        "id": "gXKHvvVD3jih",
        "outputId": "92677ae4-9e85-467f-8d97-1d01604bd5d5"
      },
      "outputs": [
        {
          "output_type": "stream",
          "name": "stdout",
          "text": [
            "Enter the number: 10\n",
            "Factorial of 1 is 1\n",
            "Factorial of 2 is 2\n",
            "Factorial of 3 is 6\n",
            "Factorial of 4 is 24\n",
            "Factorial of 5 is 120\n",
            "Factorial of 6 is 720\n",
            "Factorial of 7 is 5040\n",
            "Factorial of 8 is 40320\n",
            "Factorial of 9 is 362880\n",
            "Factorial of 10 is 3628800\n"
          ]
        }
      ],
      "source": [
        "# Program to calculate factorial of all numbers till number n\n",
        "\n",
        "n = int (input(\"Enter the number: \"))\n",
        "if n==0:\n",
        "  print (\"Factorial of 0 is 1\")\n",
        "elif n<0:\n",
        "  print (\"Please enter a valid positive number\")\n",
        "else:\n",
        "  factorial = 1\n",
        "  for i in range(1, n + 1):\n",
        "    factorial *= i\n",
        "    print (\"Factorial of\", i , \"is\", factorial)\n",
        "\n",
        "\n",
        "\n",
        "\n",
        "\n",
        "\n",
        "\n",
        "\n",
        "\n",
        "\n"
      ]
    }
  ]
}