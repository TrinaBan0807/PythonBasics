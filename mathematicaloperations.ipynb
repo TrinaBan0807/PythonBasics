{
  "nbformat": 4,
  "nbformat_minor": 0,
  "metadata": {
    "colab": {
      "provenance": [],
      "authorship_tag": "ABX9TyNx/pIlmSUs66XgpkH55zuN"
    },
    "kernelspec": {
      "name": "python3",
      "display_name": "Python 3"
    },
    "language_info": {
      "name": "python"
    }
  },
  "cells": [
    {
      "cell_type": "code",
      "execution_count": null,
      "metadata": {
        "colab": {
          "base_uri": "https://localhost:8080/"
        },
        "id": "wdIevA5S045c",
        "outputId": "332fe0ae-a2c1-4435-9d15-f19d003faeb5"
      },
      "outputs": [
        {
          "output_type": "stream",
          "name": "stdout",
          "text": [
            "Enter 1st number: 8\n",
            "Enter 2nd number: -3\n",
            "Sum of 8.0 and -3.0 is 5.0\n",
            "Difference of 8.0 and -3.0 is 11.0\n",
            "Remainder of 8.0 and -3.0 is -1.0\n",
            "8.0 divided by -3.0 is -2.6666666666666665\n",
            "8.0 multiplied by -3.0 is -24.0\n"
          ]
        }
      ],
      "source": [
        "\n",
        "# Program to add two numbers\n",
        "\n",
        "a = float(input('Enter 1st number: '))\n",
        "b = float(input('Enter 2nd number: '))\n",
        "\n",
        "def sum(a, b):\n",
        "    return (a + b)\n",
        "\n",
        "print(f'Sum of {a} and {b} is {sum(a, b)}')\n",
        "\n",
        "# Program to subtract numbers\n",
        "\n",
        "def subtract(a, b):\n",
        "    return (a - b)\n",
        "\n",
        "print(f'Difference of {a} and {b} is {subtract(a, b)}')\n",
        "\n",
        "# Program for modulus operator\n",
        "def modulus(a, b):\n",
        "    return (a % b)\n",
        "\n",
        "print(f'Remainder of {a} and {b} is {modulus(a, b)}')\n",
        "\n",
        "# Program for division\n",
        "def div(a, b):\n",
        "    return (a/b)\n",
        "print(f'{a} divided by {b} is {div(a, b)}')\n",
        "\n",
        "# Program for multiplication\n",
        "def mul(a, b):\n",
        "    return (a*b)\n",
        "print(f'{a} multiplied by {b} is {mul(a, b)}')\n",
        "\n",
        "\n",
        "\n",
        "\n",
        "\n",
        "\n",
        "\n",
        "\n",
        "\n"
      ]
    }
  ]
}