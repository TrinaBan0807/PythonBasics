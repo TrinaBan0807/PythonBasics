{
  "nbformat": 4,
  "nbformat_minor": 0,
  "metadata": {
    "colab": {
      "provenance": [],
      "authorship_tag": "ABX9TyMAd5TbZXEDgvCTx6s4im7t"
    },
    "kernelspec": {
      "name": "python3",
      "display_name": "Python 3"
    },
    "language_info": {
      "name": "python"
    }
  },
  "cells": [
    {
      "cell_type": "code",
      "execution_count": null,
      "metadata": {
        "colab": {
          "base_uri": "https://localhost:8080/"
        },
        "id": "4am79cc8N0Wf",
        "outputId": "c3fd4893-5204-4410-a653-f8349b46bb9a"
      },
      "outputs": [
        {
          "output_type": "stream",
          "name": "stdout",
          "text": [
            "Enter a list of numbers separated by space: 9,89900,4567 9008786\n",
            "Please enter valid numbers separated by space.\n"
          ]
        }
      ],
      "source": [
        "def compare(numbers):\n",
        "\n",
        "    sorted_numbers = sorted(numbers)\n",
        "    return sorted_numbers\n",
        "\n",
        "def main():\n",
        "    try:\n",
        "        # Input list of numbers from the user\n",
        "        numbers = input(\"Enter a list of numbers separated by space: \").split()\n",
        "\n",
        "        # Convert input strings to integers\n",
        "        numbers = [int(num) for num in numbers]\n",
        "\n",
        "        # Call the function to compare and sort the numbers\n",
        "        sorted_numbers = sorted_numbers(numbers)\n",
        "\n",
        "        # Display the sorted list\n",
        "        print(\"Sorted numbers in ascending order:\", sorted_numbers)\n",
        "\n",
        "    except ValueError:\n",
        "        print(\"Please enter valid numbers separated by space.\")\n",
        "\n",
        "if __name__ == \"__main__\":\n",
        "    main()\n"
      ]
    }
  ]
}