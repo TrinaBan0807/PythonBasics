{
  "nbformat": 4,
  "nbformat_minor": 0,
  "metadata": {
    "colab": {
      "provenance": [],
      "authorship_tag": "ABX9TyNVxL9QAPWSRgiCXirNEC6C"
    },
    "kernelspec": {
      "name": "python3",
      "display_name": "Python 3"
    },
    "language_info": {
      "name": "python"
    }
  },
  "cells": [
    {
      "cell_type": "code",
      "source": [],
      "metadata": {
        "id": "jgc2UPTjMy7Y"
      },
      "execution_count": null,
      "outputs": []
    },
    {
      "cell_type": "code",
      "execution_count": null,
      "metadata": {
        "colab": {
          "base_uri": "https://localhost:8080/"
        },
        "id": "L3RnuIcuItRJ",
        "outputId": "eaa17333-85c2-437b-a62a-fd06df7f2c9f"
      },
      "outputs": [
        {
          "output_type": "stream",
          "name": "stdout",
          "text": [
            "Enter your name: Alice\n",
            "Hi, Alice!\n",
            "Enter your First name: John\n",
            "What's up, John?\n"
          ]
        }
      ],
      "source": [
        "#This program prompts the user to input their name. If the name entered is \"Alice\", it prints \"Hi, Alice!\". Otherwise, it prints \"How are you, \" followed by the name entered by the user.\n",
        "\n",
        "name = input(\"Enter your name: \")\n",
        "\n",
        "if name == \"Alice\":\n",
        "    print(\"Hi, Alice!\")\n",
        "else:\n",
        "    print(\"How are you, \" + name + \"?\")\n",
        "\n",
        "#This program  first checks if the name is \"Alice\", then checks if it's \"John\". If the name is \"Alice\", it prints \"Hi\". If the name is \"John\", it says \"What's up\". Otherwise, it prints \"Nice to meet you\" followed by the input name:\n",
        "fname = input(\"Enter your First name: \")\n",
        "\n",
        "if fname == \"Alice\":\n",
        "    print(\"Hi, Alice!\")\n",
        "elif fname == \"John\":\n",
        "    print(\"What's up, John?\")\n",
        "else:\n",
        "    print(\"Nice to meet you,  \"+ fname +\"\" )"
      ]
    }
  ]
}